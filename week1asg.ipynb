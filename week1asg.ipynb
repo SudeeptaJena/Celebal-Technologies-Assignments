{
 "cells": [
  {
   "cell_type": "code",
   "execution_count": 2,
   "id": "cf5e1bf5-909f-4c3a-8120-5a675f7d9bd4",
   "metadata": {},
   "outputs": [
    {
     "name": "stdout",
     "output_type": "stream",
     "text": [
      "Lower Triangular:\n",
      "* \n",
      "* * \n",
      "* * * \n",
      "* * * * \n",
      "* * * * * \n"
     ]
    }
   ],
   "source": [
    "def lower_triangular(n):\n",
    "    for i in range(1, n+1):\n",
    "        print('* ' * i)\n",
    "n = 5\n",
    "print(\"Lower Triangular:\")\n",
    "lower_triangular(n)"
   ]
  },
  {
   "cell_type": "code",
   "execution_count": 3,
   "id": "f71881eb-12f0-476e-bd35-eb30fbef44e0",
   "metadata": {},
   "outputs": [
    {
     "name": "stdout",
     "output_type": "stream",
     "text": [
      "\n",
      "Upper Triangular:\n",
      "* * * * * \n",
      "  * * * * \n",
      "    * * * \n",
      "      * * \n",
      "        * \n"
     ]
    }
   ],
   "source": [
    "def upper_triangular(n):\n",
    "    for i in range(n, 0, -1):\n",
    "        print('  ' * (n - i) + '* ' * i)\n",
    "print(\"\\nUpper Triangular:\")\n",
    "upper_triangular(n)"
   ]
  },
  {
   "cell_type": "code",
   "execution_count": 4,
   "id": "a9af6409-4283-49a5-bb49-b1a6af61ed0c",
   "metadata": {},
   "outputs": [
    {
     "name": "stdout",
     "output_type": "stream",
     "text": [
      "\n",
      "Pyramid:\n",
      "    * \n",
      "   * * \n",
      "  * * * \n",
      " * * * * \n",
      "* * * * * \n"
     ]
    }
   ],
   "source": [
    "def pyramid(n):\n",
    "    for i in range(1, n+1):\n",
    "        print(' ' * (n - i) + '* ' * i)\n",
    "print(\"\\nPyramid:\")\n",
    "pyramid(n)"
   ]
  }
 ],
 "metadata": {
  "kernelspec": {
   "display_name": "Python 3 (ipykernel)",
   "language": "python",
   "name": "python3"
  },
  "language_info": {
   "codemirror_mode": {
    "name": "ipython",
    "version": 3
   },
   "file_extension": ".py",
   "mimetype": "text/x-python",
   "name": "python",
   "nbconvert_exporter": "python",
   "pygments_lexer": "ipython3",
   "version": "3.11.7"
  }
 },
 "nbformat": 4,
 "nbformat_minor": 5
}
